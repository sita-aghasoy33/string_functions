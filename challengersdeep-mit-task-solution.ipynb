{
 "cells": [
  {
   "cell_type": "markdown",
   "id": "fe6184c1",
   "metadata": {
    "papermill": {
     "duration": 0.025493,
     "end_time": "2022-05-29T21:12:24.187532",
     "exception": false,
     "start_time": "2022-05-29T21:12:24.162039",
     "status": "completed"
    },
    "tags": []
   },
   "source": [
    "# **Uzun müddət üzərində düşündüyüm MIT məsələsinin cavabı**"
   ]
  },
  {
   "cell_type": "markdown",
   "id": "191e59c4",
   "metadata": {
    "_cell_guid": "b1076dfc-b9ad-4769-8c92-a6c4dae69d19",
    "_uuid": "8f2839f25d086af736a60e9eeb907d3b93b6e0e5",
    "papermill": {
     "duration": 0.020674,
     "end_time": "2022-05-29T21:12:24.231234",
     "exception": false,
     "start_time": "2022-05-29T21:12:24.210560",
     "status": "completed"
    },
    "tags": []
   },
   "source": [
    "Ötən həftə sizə ünvanladığımız sualın cavabını hazırladıq. Əgər kodları daha rahat icra edərək öyrənmək istəyirisinizsə, bu bloqu Kaggle platforması üzərindən də oxuya bilərsiniz.\n",
    "\n",
    "Gəlin ilk öncə, nə istədiyimizi dəqiqləşdirək: bizə verilən mətndə ən uzun alfabetik ardıcıllıq lazımdır. Deməli, biz iki iş görürük: \n",
    "\n",
    "1)   əvvəl mətndəki alfabetik ardıcıllıqları tapırıq;\n",
    "2)  sonra o ardıcllıqlar arasında ən uzun olan(lar)ını seçirik.\n",
    "\n",
    "Məsələn, mətn eyni zamanda **\"abc\"** və **\"jklmn\"** birləşmələri varsa, onda funksiyamızın nəticəsi yalnızca **\"jklmn\"** olmalıdır.\n",
    "\n",
    "İlk işdən başlayaq. "
   ]
  },
  {
   "cell_type": "markdown",
   "id": "e30f6bd6",
   "metadata": {
    "papermill": {
     "duration": 0.020552,
     "end_time": "2022-05-29T21:12:24.273012",
     "exception": false,
     "start_time": "2022-05-29T21:12:24.252460",
     "status": "completed"
    },
    "tags": []
   },
   "source": [
    "# **Əlifba sırası ilə yazılan hərflərin müəyyən edilməsi**\n",
    "\n",
    "**Dəyişənlərin müəyyən edilməsİ**\n",
    "\n",
    "Bu tapşırığın həll olunması üçün **\"loop\"-lardan *(yəni dövrlərdən)*** istifadə edəcəyik. Lakin ilk öncə bəzi dəyişənləri müəyyən etməliyik:"
   ]
  },
  {
   "cell_type": "code",
   "execution_count": 1,
   "id": "fe1d4c47",
   "metadata": {
    "execution": {
     "iopub.execute_input": "2022-05-29T21:12:24.321982Z",
     "iopub.status.busy": "2022-05-29T21:12:24.320115Z",
     "iopub.status.idle": "2022-05-29T21:12:24.335818Z",
     "shell.execute_reply": "2022-05-29T21:12:24.337132Z",
     "shell.execute_reply.started": "2021-11-14T12:24:24.124479Z"
    },
    "papermill": {
     "duration": 0.043108,
     "end_time": "2022-05-29T21:12:24.337693",
     "exception": false,
     "start_time": "2022-05-29T21:12:24.294585",
     "status": "completed"
    },
    "tags": []
   },
   "outputs": [
    {
     "name": "stdout",
     "output_type": "stream",
     "text": [
      "maxlen: 0\n",
      "collect: -\n",
      "letters: sssssabcdebobobegghiaklmno\n"
     ]
    }
   ],
   "source": [
    "maxlen = 0\n",
    "collect = '-'\n",
    "letters = 'sssssabcdebobobegghiaklmno'\n",
    "print('maxlen:', maxlen)\n",
    "print('collect:', collect)\n",
    "print('letters:', letters)"
   ]
  },
  {
   "cell_type": "markdown",
   "id": "ac1d5a1c",
   "metadata": {
    "papermill": {
     "duration": 0.022229,
     "end_time": "2022-05-29T21:12:24.383330",
     "exception": false,
     "start_time": "2022-05-29T21:12:24.361101",
     "status": "completed"
    },
    "tags": []
   },
   "source": [
    "# **Hərflərin sırası**\n",
    "Python-da ədədlərin *ASCII koda* əsasən sırasını müəyyən edən **ord()** funksiyası var. Əgər funksiyaya *\"a\"* veriləni daxil etsəniz, *97* cavabı çıxaracaq. **chr()** funksiyası isə verilən sıra nömrəsində yerləşən hərfi tapır. "
   ]
  },
  {
   "cell_type": "code",
   "execution_count": 2,
   "id": "c3c6f7f9",
   "metadata": {
    "execution": {
     "iopub.execute_input": "2022-05-29T21:12:24.433213Z",
     "iopub.status.busy": "2022-05-29T21:12:24.432383Z",
     "iopub.status.idle": "2022-05-29T21:12:24.435240Z",
     "shell.execute_reply": "2022-05-29T21:12:24.435749Z",
     "shell.execute_reply.started": "2021-11-14T12:24:24.137156Z"
    },
    "papermill": {
     "duration": 0.03041,
     "end_time": "2022-05-29T21:12:24.435915",
     "exception": false,
     "start_time": "2022-05-29T21:12:24.405505",
     "status": "completed"
    },
    "tags": []
   },
   "outputs": [
    {
     "name": "stdout",
     "output_type": "stream",
     "text": [
      "order number of \"a\": 97\n",
      "letter that corresponds order number 98: b\n"
     ]
    }
   ],
   "source": [
    "test_letter = 'a'\n",
    "print('order number of \"'+test_letter+'\":', ord(test_letter))\n",
    "\n",
    "test_number = 98\n",
    "print('letter that corresponds order number '+str(test_number)+':', chr(test_number))"
   ]
  },
  {
   "cell_type": "markdown",
   "id": "f714b9c3",
   "metadata": {
    "papermill": {
     "duration": 0.023572,
     "end_time": "2022-05-29T21:12:24.482413",
     "exception": false,
     "start_time": "2022-05-29T21:12:24.458841",
     "status": "completed"
    },
    "tags": []
   },
   "source": [
    "# **Verilən şərtə uyğun hərflərin tapılması**"
   ]
  },
  {
   "cell_type": "code",
   "execution_count": 3,
   "id": "7dd658a6",
   "metadata": {
    "execution": {
     "iopub.execute_input": "2022-05-29T21:12:24.532852Z",
     "iopub.status.busy": "2022-05-29T21:12:24.532069Z",
     "iopub.status.idle": "2022-05-29T21:12:24.535146Z",
     "shell.execute_reply": "2022-05-29T21:12:24.535856Z",
     "shell.execute_reply.started": "2021-11-14T12:24:24.153839Z"
    },
    "papermill": {
     "duration": 0.031881,
     "end_time": "2022-05-29T21:12:24.536088",
     "exception": false,
     "start_time": "2022-05-29T21:12:24.504207",
     "status": "completed"
    },
    "tags": []
   },
   "outputs": [
    {
     "name": "stdout",
     "output_type": "stream",
     "text": [
      "-abbccddeghhikllmmnno\n"
     ]
    }
   ],
   "source": [
    "#\"collect\" dəyişənini sıfırlayırıq\n",
    "collect = \"-\"\n",
    "\n",
    "for i in range(len(letters)-1):\n",
    "    if chr(ord(letters[i])+1) == letters[i+1]:               \n",
    "                   collect = collect + letters[i:i+2]\n",
    "print(collect)"
   ]
  },
  {
   "cell_type": "markdown",
   "id": "a8fb0c85",
   "metadata": {
    "papermill": {
     "duration": 0.022457,
     "end_time": "2022-05-29T21:12:24.582149",
     "exception": false,
     "start_time": "2022-05-29T21:12:24.559692",
     "status": "completed"
    },
    "tags": []
   },
   "source": [
    "# **Tərarlanan hərflərin qarşısının alınması**\n",
    "\n",
    "Yuxarıdakı ifadənin nəticəsinə fikir versək görərik ki, **\"collect\"** dəyişənində eyni hərflər təkrarlanır. Yəni biz **\"abcde\"** görmək istəyirdiksə, funksiya bizə **\"abbccdde\"** nəticəsi verir. Bunun qarşısını almaq üçün şərti ifadəmizə bir budaq da artırırıq:"
   ]
  },
  {
   "cell_type": "code",
   "execution_count": 4,
   "id": "ef1454a0",
   "metadata": {
    "execution": {
     "iopub.execute_input": "2022-05-29T21:12:24.635144Z",
     "iopub.status.busy": "2022-05-29T21:12:24.634261Z",
     "iopub.status.idle": "2022-05-29T21:12:24.637577Z",
     "shell.execute_reply": "2022-05-29T21:12:24.638131Z",
     "shell.execute_reply.started": "2021-11-14T12:24:24.166844Z"
    },
    "papermill": {
     "duration": 0.032552,
     "end_time": "2022-05-29T21:12:24.638310",
     "exception": false,
     "start_time": "2022-05-29T21:12:24.605758",
     "status": "completed"
    },
    "tags": []
   },
   "outputs": [
    {
     "name": "stdout",
     "output_type": "stream",
     "text": [
      "-abcdeghiklmno\n"
     ]
    }
   ],
   "source": [
    "#\"collect\" dəyişənini sıfırlayırıq\n",
    "collect = \"-\"\n",
    "\n",
    "for i in range(len(letters)-1):\n",
    "    if chr(ord(letters[i])+1) == letters[i+1]:\n",
    "                if collect[-1] == letters[i]:\n",
    "                   collect = collect + letters[i+1]\n",
    "                else:\n",
    "                   collect = collect + letters[i:i+2]\n",
    "print(collect)"
   ]
  },
  {
   "cell_type": "markdown",
   "id": "ae6ed779",
   "metadata": {
    "papermill": {
     "duration": 0.021839,
     "end_time": "2022-05-29T21:12:24.682472",
     "exception": false,
     "start_time": "2022-05-29T21:12:24.660633",
     "status": "completed"
    },
    "tags": []
   },
   "source": [
    "**Qeyd:** Dəyişənə **\"-\"** işarəsinə mənimsətməyimizin səbəbi \"slicing\" prosesi zamanı xəta verməməsidir. Əgər mətn dəyişənin **\"\" (yəni boşluq)** kimi saxlasaq, o zaman **collect[-1]** indeksi, və ya  **collect[ len(collect) - 1 ]** (yəni sonuncu elementi) seçmək istədikdə, xəta ilə qarşılaşacağıq. "
   ]
  },
  {
   "cell_type": "code",
   "execution_count": 5,
   "id": "5b910169",
   "metadata": {
    "execution": {
     "iopub.execute_input": "2022-05-29T21:12:24.735744Z",
     "iopub.status.busy": "2022-05-29T21:12:24.735039Z",
     "iopub.status.idle": "2022-05-29T21:12:24.738138Z",
     "shell.execute_reply": "2022-05-29T21:12:24.738683Z",
     "shell.execute_reply.started": "2021-11-14T13:01:19.317673Z"
    },
    "papermill": {
     "duration": 0.03363,
     "end_time": "2022-05-29T21:12:24.738860",
     "exception": false,
     "start_time": "2022-05-29T21:12:24.705230",
     "status": "completed"
    },
    "tags": []
   },
   "outputs": [
    {
     "data": {
      "text/plain": [
       "'-'"
      ]
     },
     "execution_count": 5,
     "metadata": {},
     "output_type": "execute_result"
    }
   ],
   "source": [
    "a = \"-\"\n",
    "\"\"\"əgər \"a\" dəyişənini \"\" kimi əvəzləsək (a = \"\"),\n",
    "o zaman, kod xəta verəcək.\"\"\"\n",
    "\n",
    "a[-1]"
   ]
  },
  {
   "cell_type": "markdown",
   "id": "e9debaf3",
   "metadata": {
    "papermill": {
     "duration": 0.022608,
     "end_time": "2022-05-29T21:12:24.784183",
     "exception": false,
     "start_time": "2022-05-29T21:12:24.761575",
     "status": "completed"
    },
    "tags": []
   },
   "source": [
    "# Şərt doğru olmadıqda...\n",
    "\n",
    "Əgər **if chr(ord(s[i])+1) == s[i+1]:** şərti səhvdirsə, kod heç bir şey etmir və növbəti iterasiyaya keçir. Sonda belə bir şey alınır:\n",
    "\n",
    "> -abcdeabcdghiklmno\n",
    "\n",
    "Burada bir neçə ayrı alfabetik ardıcıllıq bir-birinə bitişik yazılıb. Biz isə onları ayırmalı və hansının daha uzun olduğunu müqayisə edə bilməliyik. Yəni ehtiyacımız olan format aşağıdakı kimidir:\n",
    "\n",
    "> -abcde-abcd-ghi-klmno\n",
    "\n",
    "Buna görə ayırıcı işarəyə ehtiyacımız var. Yəni növbəti iterasiyada hərf əlifba sırasını pozursa, o zaman **\"collect\"** mətninə ayırıcı işarə əlavə olunsun. Bunu aşağıdakı kodla etmək mümkündür:"
   ]
  },
  {
   "cell_type": "code",
   "execution_count": 6,
   "id": "b3d66a14",
   "metadata": {
    "execution": {
     "iopub.execute_input": "2022-05-29T21:12:24.837859Z",
     "iopub.status.busy": "2022-05-29T21:12:24.837153Z",
     "iopub.status.idle": "2022-05-29T21:12:24.839968Z",
     "shell.execute_reply": "2022-05-29T21:12:24.840706Z",
     "shell.execute_reply.started": "2021-11-14T12:24:55.00998Z"
    },
    "papermill": {
     "duration": 0.03402,
     "end_time": "2022-05-29T21:12:24.840934",
     "exception": false,
     "start_time": "2022-05-29T21:12:24.806914",
     "status": "completed"
    },
    "tags": []
   },
   "outputs": [
    {
     "name": "stdout",
     "output_type": "stream",
     "text": [
      "------abcde--------ghi--klmno\n"
     ]
    }
   ],
   "source": [
    "#\"collect\" dəyişənini sıfırlayırıq\n",
    "collect = \"-\"\n",
    "\n",
    "for i in range(len(letters)-1):\n",
    "        if chr(ord(letters[i])+1) == letters[i+1]:\n",
    "                    #print(letters[i:i+2])\n",
    "                    if collect[-1] == letters[i]:\n",
    "                       collect = collect + letters[i+1]\n",
    "                    else:\n",
    "                       collect = collect + letters[i:i+2]\n",
    "                    #print(collect)\n",
    "        elif chr(ord(letters[i])+1) != letters[i+1]:\n",
    "            collect = collect + '-'\n",
    "print(collect)"
   ]
  },
  {
   "cell_type": "markdown",
   "id": "966a9acb",
   "metadata": {
    "papermill": {
     "duration": 0.02328,
     "end_time": "2022-05-29T21:12:24.889095",
     "exception": false,
     "start_time": "2022-05-29T21:12:24.865815",
     "status": "completed"
    },
    "tags": []
   },
   "source": [
    "# Təkralanan \"-\" işarəsi\n",
    "\n",
    "Yazdığımız formulun mənfi cəhəti odur ki, ardıcıllığı pozan hər hərfin yerinə \"-\" işarəsi əlavə edəcək. Yəni belə bir nəticə alınacaq:\n",
    "> ------abcde-----abcd----ghi--klmno\n",
    "\n",
    "Biz isə belə bir nəticə istəyirik:\n",
    "> -abcde-abcd-ghi-klmno\n",
    "\n",
    "Bunun üçün aşağıdakı şərti ifadəni yazırıq:"
   ]
  },
  {
   "cell_type": "code",
   "execution_count": 7,
   "id": "289f78e6",
   "metadata": {
    "execution": {
     "iopub.execute_input": "2022-05-29T21:12:24.942209Z",
     "iopub.status.busy": "2022-05-29T21:12:24.941496Z",
     "iopub.status.idle": "2022-05-29T21:12:24.948434Z",
     "shell.execute_reply": "2022-05-29T21:12:24.948920Z",
     "shell.execute_reply.started": "2021-11-14T12:24:57.998588Z"
    },
    "papermill": {
     "duration": 0.035309,
     "end_time": "2022-05-29T21:12:24.949101",
     "exception": false,
     "start_time": "2022-05-29T21:12:24.913792",
     "status": "completed"
    },
    "tags": []
   },
   "outputs": [
    {
     "name": "stdout",
     "output_type": "stream",
     "text": [
      "-abcde-ghi-klmno\n"
     ]
    }
   ],
   "source": [
    "#\"collect\" dəyişənini sıfırlayırıq\n",
    "collect = \"-\"\n",
    "\n",
    "for i in range(len(letters)-1):\n",
    "        if chr(ord(letters[i])+1) == letters[i+1]:\n",
    "                    #print(letters[i:i+2])\n",
    "                    if collect[-1] == letters[i]:\n",
    "                       collect = collect + letters[i+1]\n",
    "                    else:\n",
    "                       collect = collect + letters[i:i+2]\n",
    "                    #print(collect)\n",
    "        elif chr(ord(letters[i])+1) != letters[i+1]:\n",
    "            if collect[-1] != '-':\n",
    "                    collect = collect + '-'\n",
    "print(collect)"
   ]
  },
  {
   "cell_type": "markdown",
   "id": "fc76a4fb",
   "metadata": {
    "papermill": {
     "duration": 0.023312,
     "end_time": "2022-05-29T21:12:24.996982",
     "exception": false,
     "start_time": "2022-05-29T21:12:24.973670",
     "status": "completed"
    },
    "tags": []
   },
   "source": [
    "# **Ən uzun ardıcıllığının tapılması**\n",
    "\n",
    "# Ardıcıllıqların uzunluqlarının tapılması\n",
    "\n",
    "Artıq **collect == \"-abcde-abcd-ghi-klmno\"** nəticəsini əldə etdik, və bununla ilk işimiz bitdi. Növbəti işimiz, burada ən uzun ardıcıllıqları tapmaqdır. Yuxarıda **\"maxlen\"** dəyişəni yaratmışdıq. Həmin dəyişən vasitəsilə ən uzun ardıcıllığın neçə elementdən ibarət olduğunu tapırıq və **\"maxlen\"** dəyişəninə mənimsədirik:"
   ]
  },
  {
   "cell_type": "code",
   "execution_count": 8,
   "id": "dc261c5d",
   "metadata": {
    "execution": {
     "iopub.execute_input": "2022-05-29T21:12:25.053929Z",
     "iopub.status.busy": "2022-05-29T21:12:25.052997Z",
     "iopub.status.idle": "2022-05-29T21:12:25.056192Z",
     "shell.execute_reply": "2022-05-29T21:12:25.056712Z",
     "shell.execute_reply.started": "2021-11-14T12:25:00.241922Z"
    },
    "papermill": {
     "duration": 0.034937,
     "end_time": "2022-05-29T21:12:25.056881",
     "exception": false,
     "start_time": "2022-05-29T21:12:25.021944",
     "status": "completed"
    },
    "tags": []
   },
   "outputs": [
    {
     "name": "stdout",
     "output_type": "stream",
     "text": [
      "5\n"
     ]
    }
   ],
   "source": [
    "for a in collect.split('-'):\n",
    "    if len(a) > maxlen:\n",
    "        maxlen = len(a)\n",
    "        \n",
    "print(maxlen)"
   ]
  },
  {
   "cell_type": "markdown",
   "id": "41d45e55",
   "metadata": {
    "papermill": {
     "duration": 0.024814,
     "end_time": "2022-05-29T21:12:25.105036",
     "exception": false,
     "start_time": "2022-05-29T21:12:25.080222",
     "status": "completed"
    },
    "tags": []
   },
   "source": [
    "**Ən uzun ardıcıllığının çıxarılması**\n",
    "\n",
    "Daha sonra uzunluğu \"maxlen\"-ə bərabər olan (yəni ən uzun olan) ardıcıllığı tapırıq və ekrana çap (print) edirik:"
   ]
  },
  {
   "cell_type": "code",
   "execution_count": 9,
   "id": "79215bcd",
   "metadata": {
    "execution": {
     "iopub.execute_input": "2022-05-29T21:12:25.159813Z",
     "iopub.status.busy": "2022-05-29T21:12:25.159059Z",
     "iopub.status.idle": "2022-05-29T21:12:25.162032Z",
     "shell.execute_reply": "2022-05-29T21:12:25.162754Z",
     "shell.execute_reply.started": "2021-11-14T12:25:02.204993Z"
    },
    "papermill": {
     "duration": 0.033948,
     "end_time": "2022-05-29T21:12:25.162971",
     "exception": false,
     "start_time": "2022-05-29T21:12:25.129023",
     "status": "completed"
    },
    "tags": []
   },
   "outputs": [
    {
     "name": "stdout",
     "output_type": "stream",
     "text": [
      "abcde\n",
      "klmno\n"
     ]
    }
   ],
   "source": [
    "for a in collect.split('-'):\n",
    "    if len(a) == maxlen:\n",
    "        print(a)"
   ]
  },
  {
   "cell_type": "markdown",
   "id": "55478d8a",
   "metadata": {
    "papermill": {
     "duration": 0.023744,
     "end_time": "2022-05-29T21:12:25.211750",
     "exception": false,
     "start_time": "2022-05-29T21:12:25.188006",
     "status": "completed"
    },
    "tags": []
   },
   "source": [
    "# **Son nəticə**\n",
    "\n",
    "Ümumi olaraq kodun görüntüsü belədir. Ən sonda def vasitəsilə onu funksiyaya çevirə və istifadə edə bilərik:"
   ]
  },
  {
   "cell_type": "code",
   "execution_count": 10,
   "id": "773c1aba",
   "metadata": {
    "execution": {
     "iopub.execute_input": "2022-05-29T21:12:25.269224Z",
     "iopub.status.busy": "2022-05-29T21:12:25.268311Z",
     "iopub.status.idle": "2022-05-29T21:12:25.271197Z",
     "shell.execute_reply": "2022-05-29T21:12:25.270629Z",
     "shell.execute_reply.started": "2021-11-14T12:25:03.759574Z"
    },
    "papermill": {
     "duration": 0.035615,
     "end_time": "2022-05-29T21:12:25.271334",
     "exception": false,
     "start_time": "2022-05-29T21:12:25.235719",
     "status": "completed"
    },
    "tags": []
   },
   "outputs": [],
   "source": [
    "def find_alphabet(letters):\n",
    "    maxlen = 0\n",
    "    collect = '-'\n",
    "    for i in range(len(letters)-1):\n",
    "        if chr(ord(letters[i])+1) == letters[i+1]:\n",
    "                    #print(letters[i:i+2])\n",
    "                    if collect[-1] == letters[i]:\n",
    "                       collect = collect + letters[i+1]\n",
    "                    else:\n",
    "                       collect = collect + letters[i:i+2]\n",
    "                    #print(collect)\n",
    "        elif chr(ord(letters[i])+1) != letters[i+1]:\n",
    "            if collect[-1] != '-':\n",
    "                    collect = collect + '-'\n",
    "                    #print(collect)\n",
    "                    \n",
    "    for a in collect.split('-'):\n",
    "        if len(a) > maxlen:\n",
    "            maxlen = len(a)\n",
    "    for a in collect.split('-'):\n",
    "        if len(a) == maxlen:\n",
    "            return a"
   ]
  },
  {
   "cell_type": "code",
   "execution_count": 11,
   "id": "2ec23a99",
   "metadata": {
    "execution": {
     "iopub.execute_input": "2022-05-29T21:12:25.322510Z",
     "iopub.status.busy": "2022-05-29T21:12:25.321861Z",
     "iopub.status.idle": "2022-05-29T21:12:25.326235Z",
     "shell.execute_reply": "2022-05-29T21:12:25.326902Z",
     "shell.execute_reply.started": "2021-11-14T12:26:29.263367Z"
    },
    "papermill": {
     "duration": 0.03167,
     "end_time": "2022-05-29T21:12:25.327076",
     "exception": false,
     "start_time": "2022-05-29T21:12:25.295406",
     "status": "completed"
    },
    "tags": []
   },
   "outputs": [
    {
     "data": {
      "text/plain": [
       "'abcde'"
      ]
     },
     "execution_count": 11,
     "metadata": {},
     "output_type": "execute_result"
    }
   ],
   "source": [
    "s = 'sssssabcdebobobegghiaklmno'\n",
    "find_alphabet(s)"
   ]
  },
  {
   "cell_type": "markdown",
   "id": "af097ee4",
   "metadata": {
    "papermill": {
     "duration": 0.023897,
     "end_time": "2022-05-29T21:12:25.375319",
     "exception": false,
     "start_time": "2022-05-29T21:12:25.351422",
     "status": "completed"
    },
    "tags": []
   },
   "source": [
    "# İkinci məsələnin həlli də buna oxşardır:"
   ]
  },
  {
   "cell_type": "code",
   "execution_count": 12,
   "id": "63e221a1",
   "metadata": {
    "execution": {
     "iopub.execute_input": "2022-05-29T21:12:25.428372Z",
     "iopub.status.busy": "2022-05-29T21:12:25.427710Z",
     "iopub.status.idle": "2022-05-29T21:12:25.435348Z",
     "shell.execute_reply": "2022-05-29T21:12:25.435921Z",
     "shell.execute_reply.started": "2022-05-29T20:17:18.548432Z"
    },
    "papermill": {
     "duration": 0.035993,
     "end_time": "2022-05-29T21:12:25.436091",
     "exception": false,
     "start_time": "2022-05-29T21:12:25.400098",
     "status": "completed"
    },
    "tags": []
   },
   "outputs": [],
   "source": [
    "def find_duplicate(letters):\n",
    "    maxlen = 0\n",
    "    collect = '-'\n",
    "    for i in range(len(letters)-1):\n",
    "        if letters[i] == letters[i+1]:\n",
    "                    #print(letters[i:i+2])\n",
    "                    if collect[-1] == letters[i]:\n",
    "                       collect = collect + letters[i+1]\n",
    "                    else:\n",
    "                       collect = collect + letters[i:i+2]\n",
    "                    #print(collect)\n",
    "        elif chr(ord(letters[i])+1) != letters[i+1]:\n",
    "            if collect[-1] != '-':\n",
    "                    collect = collect + '-'\n",
    "                    #print(collect)\n",
    "                    \n",
    "    for a in collect.split('-'):\n",
    "        if len(a) > maxlen:\n",
    "            maxlen = len(a)\n",
    "    for a in collect.split('-'):\n",
    "        if len(a) == maxlen:\n",
    "            return a"
   ]
  },
  {
   "cell_type": "code",
   "execution_count": 13,
   "id": "ecb75646",
   "metadata": {
    "execution": {
     "iopub.execute_input": "2022-05-29T21:12:25.488360Z",
     "iopub.status.busy": "2022-05-29T21:12:25.487654Z",
     "iopub.status.idle": "2022-05-29T21:12:25.492158Z",
     "shell.execute_reply": "2022-05-29T21:12:25.492815Z",
     "shell.execute_reply.started": "2022-05-29T20:18:08.953093Z"
    },
    "papermill": {
     "duration": 0.032749,
     "end_time": "2022-05-29T21:12:25.493017",
     "exception": false,
     "start_time": "2022-05-29T21:12:25.460268",
     "status": "completed"
    },
    "tags": []
   },
   "outputs": [
    {
     "data": {
      "text/plain": [
       "'sssss'"
      ]
     },
     "execution_count": 13,
     "metadata": {},
     "output_type": "execute_result"
    }
   ],
   "source": [
    "s = 'sssssabcdebobobegghiaklmno'\n",
    "find_duplicate(s)"
   ]
  },
  {
   "cell_type": "markdown",
   "id": "2df6963c",
   "metadata": {
    "papermill": {
     "duration": 0.025265,
     "end_time": "2022-05-29T21:12:25.543396",
     "exception": false,
     "start_time": "2022-05-29T21:12:25.518131",
     "status": "completed"
    },
    "tags": []
   },
   "source": [
    "# Kiçik bir düzəltmə"
   ]
  },
  {
   "cell_type": "markdown",
   "id": "65c76365",
   "metadata": {
    "papermill": {
     "duration": 0.024312,
     "end_time": "2022-05-29T21:12:25.592375",
     "exception": false,
     "start_time": "2022-05-29T21:12:25.568063",
     "status": "completed"
    },
    "tags": []
   },
   "source": [
    "MIT-in təqdim etdiyi sualda tələb olunan sualda həm hərflərin təkrarlandığı, həm də ardıcıl gəldiyi hallar keçərli hesab edilir. Yəni verilən kodun cavabında:\n",
    "* həm \"abcde\"\n",
    "* həm \"sssss\"\n",
    "* həm də \"abccde\"\n",
    "\n",
    "variantları çıxa bilər. Yəni bu ardıcıllıqlar hər biri əlifba sırasına uyğun hesab edilir. Ona görə aşağıdakı kod cavaba daha uyğundur.\n",
    "\n",
    "Qeyd: Hələki cavabı \"Edx\" tƏhsil portalında yoxlamadığım üçün kodun tam uyğun olduğuna əmin deyiləm. Cavabı yoxladığım zaman sizinlə bölüşəcəyəm."
   ]
  },
  {
   "cell_type": "code",
   "execution_count": 14,
   "id": "b8979d69",
   "metadata": {
    "execution": {
     "iopub.execute_input": "2022-05-29T21:12:25.644980Z",
     "iopub.status.busy": "2022-05-29T21:12:25.644255Z",
     "iopub.status.idle": "2022-05-29T21:12:25.653746Z",
     "shell.execute_reply": "2022-05-29T21:12:25.654339Z",
     "shell.execute_reply.started": "2022-05-29T20:17:41.138850Z"
    },
    "papermill": {
     "duration": 0.037367,
     "end_time": "2022-05-29T21:12:25.654535",
     "exception": false,
     "start_time": "2022-05-29T21:12:25.617168",
     "status": "completed"
    },
    "tags": []
   },
   "outputs": [],
   "source": [
    "def find_alpha(letters):\n",
    "    maxlen = 0\n",
    "    collect = '-'\n",
    "    for i in range(len(letters)-1):\n",
    "        if chr(ord(letters[i])+1) == letters[i+1] or chr(ord(letters[i])) == letters[i+1] :\n",
    "                    #print(letters[i:i+2])\n",
    "                    if collect[-1] == letters[i]:\n",
    "                       collect = collect + letters[i+1]\n",
    "                    else:\n",
    "                       collect = collect + letters[i:i+2]\n",
    "                    #print(collect)\n",
    "        elif chr(ord(letters[i])+1) != letters[i+1]:\n",
    "            if collect[-1] != '-':\n",
    "                    collect = collect + '-'\n",
    "                    #print(collect)\n",
    "    \"\"\"uzunluğu ən çox olan hərf ardıcıllıqlarını toplamaq üçün \n",
    "    bir siyahı yaradırıq\"\"\"\n",
    "    alpha_list = list()      \n",
    "    for a in collect.split('-'):\n",
    "        if len(a) > maxlen:\n",
    "            maxlen = len(a)\n",
    "    for a in collect.split('-'):\n",
    "        \"\"\"uzunluğu ən çox olan ardıcıllıqları\n",
    "        bu siyahıya əlavə edirik.\"\"\"\n",
    "        if len(a) == maxlen:\n",
    "            alpha_list.append(a)\n",
    "    \"\"\"ən uzun ardıcıllıqlar siyahısındakı verilənləri\n",
    "    ayrı-ayrılıqda çap edirik.\"\"\"\n",
    "    for a in alpha_list:\n",
    "        print(a)"
   ]
  },
  {
   "cell_type": "code",
   "execution_count": 15,
   "id": "05da33e4",
   "metadata": {
    "execution": {
     "iopub.execute_input": "2022-05-29T21:12:25.707651Z",
     "iopub.status.busy": "2022-05-29T21:12:25.706875Z",
     "iopub.status.idle": "2022-05-29T21:12:25.711446Z",
     "shell.execute_reply": "2022-05-29T21:12:25.712105Z",
     "shell.execute_reply.started": "2022-05-29T20:17:55.929729Z"
    },
    "papermill": {
     "duration": 0.032711,
     "end_time": "2022-05-29T21:12:25.712271",
     "exception": false,
     "start_time": "2022-05-29T21:12:25.679560",
     "status": "completed"
    },
    "tags": []
   },
   "outputs": [
    {
     "name": "stdout",
     "output_type": "stream",
     "text": [
      "sssss\n",
      "abcde\n",
      "klmno\n"
     ]
    }
   ],
   "source": [
    "s = 'sssssabcdebobobegghiaklmno'\n",
    "find_alpha(s)"
   ]
  },
  {
   "cell_type": "markdown",
   "id": "641b00dc",
   "metadata": {
    "papermill": {
     "duration": 0.02472,
     "end_time": "2022-05-29T21:12:25.762058",
     "exception": false,
     "start_time": "2022-05-29T21:12:25.737338",
     "status": "completed"
    },
    "tags": []
   },
   "source": [
    "Oxuduğunuz üçün təşəkkürlər!\n",
    "\n",
    "Daha çox belə paylaşımlar üçün:\n",
    "\n",
    "https://challengersdeep.wixsite.com/website\n",
    "\n",
    "https://www.instagram.com/deep_education/"
   ]
  }
 ],
 "metadata": {
  "kernelspec": {
   "display_name": "Python 3",
   "language": "python",
   "name": "python3"
  },
  "language_info": {
   "codemirror_mode": {
    "name": "ipython",
    "version": 3
   },
   "file_extension": ".py",
   "mimetype": "text/x-python",
   "name": "python",
   "nbconvert_exporter": "python",
   "pygments_lexer": "ipython3",
   "version": "3.7.10"
  },
  "papermill": {
   "default_parameters": {},
   "duration": 12.244952,
   "end_time": "2022-05-29T21:12:26.398233",
   "environment_variables": {},
   "exception": null,
   "input_path": "__notebook__.ipynb",
   "output_path": "__notebook__.ipynb",
   "parameters": {},
   "start_time": "2022-05-29T21:12:14.153281",
   "version": "2.3.3"
  }
 },
 "nbformat": 4,
 "nbformat_minor": 5
}
